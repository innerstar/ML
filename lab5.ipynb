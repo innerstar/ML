{
 "cells": [
  {
   "cell_type": "code",
   "execution_count": 9,
   "id": "a34dcf49",
   "metadata": {},
   "outputs": [
    {
     "name": "stdout",
     "output_type": "stream",
     "text": [
      "0.0006358931423164904\n",
      "1.9707825183868408\n",
      "0.06641823798418045\n"
     ]
    }
   ],
   "source": [
    "#Linear Regression\n",
    "import numpy as np\n",
    "import torch\n",
    "\n",
    "x_train = torch.FloatTensor([[1], [2], [3]])\n",
    "y_train = torch.FloatTensor([[2], [4], [6]])\n",
    "\n",
    "w = torch.zeros(1, requires_grad=True)\n",
    "b = torch.zeros(1, requires_grad=True)\n",
    "\n",
    "optimizer = torch.optim.SGD([w, b] , lr=0.01)\n",
    "\n",
    "nb_epochs = 1000\n",
    "for epoch in range(1, nb_epochs + 1):\n",
    "    hypothesis = x_train * w + b\n",
    "    cost = torch.mean((hypothesis - y_train) ** 2)\n",
    "    \n",
    "    optimizer.zero_grad()\n",
    "    cost.backward()\n",
    "    optimizer.step()\n",
    "\n",
    "print(cost.item())\n",
    "print(w.item())\n",
    "print(b.item())"
   ]
  },
  {
   "cell_type": "code",
   "execution_count": 6,
   "id": "26919e89",
   "metadata": {},
   "outputs": [
    {
     "name": "stdout",
     "output_type": "stream",
     "text": [
      "Epoch    0/10 w: 0.000, Cost: 4.666667\n",
      "Epoch    1/10 w: 1.400, Cost: 0.746666\n",
      "Epoch    2/10 w: 0.840, Cost: 0.119467\n",
      "Epoch    3/10 w: 1.064, Cost: 0.019115\n",
      "Epoch    4/10 w: 0.974, Cost: 0.003058\n",
      "Epoch    5/10 w: 1.010, Cost: 0.000489\n",
      "Epoch    6/10 w: 0.996, Cost: 0.000078\n",
      "Epoch    7/10 w: 1.002, Cost: 0.000013\n",
      "Epoch    8/10 w: 0.999, Cost: 0.000002\n",
      "Epoch    9/10 w: 1.000, Cost: 0.000000\n",
      "Epoch   10/10 w: 1.000, Cost: 0.000000\n"
     ]
    }
   ],
   "source": [
    "#Gradient Desent\n",
    "x_train = torch.FloatTensor([[1], [2], [3]])\n",
    "y_train = torch.FloatTensor([[1], [2], [3]])\n",
    "\n",
    "w = torch.zeros(1)\n",
    "\n",
    "lr = 0.1\n",
    "\n",
    "nb_epochs = 10\n",
    "for epoch in range(nb_epochs + 1):\n",
    "    hypothesis = x_train * w\n",
    "    \n",
    "    cost = torch.mean((hypothesis - y_train) ** 2)\n",
    "    gradient = torch.sum((w * x_train - y_train) * x_train)\n",
    "    \n",
    "    print('Epoch {:4d}/{} w: {:.3f}, Cost: {:.6f}'.format(\n",
    "        epoch, nb_epochs, w.item(), cost.item()\n",
    "    ))\n",
    "    \n",
    "    w -= lr * gradient"
   ]
  },
  {
   "cell_type": "code",
   "execution_count": 10,
   "id": "1a2cb898",
   "metadata": {},
   "outputs": [
    {
     "name": "stdout",
     "output_type": "stream",
     "text": [
      "Epoch    0/10 w: 0.000, Cost: 4.666667\n",
      "Epoch    1/10 w: 1.400, Cost: 0.746667\n",
      "Epoch    2/10 w: 0.840, Cost: 0.119467\n",
      "Epoch    3/10 w: 1.064, Cost: 0.019115\n",
      "Epoch    4/10 w: 0.974, Cost: 0.003058\n",
      "Epoch    5/10 w: 1.010, Cost: 0.000489\n",
      "Epoch    6/10 w: 0.996, Cost: 0.000078\n",
      "Epoch    7/10 w: 1.002, Cost: 0.000013\n",
      "Epoch    8/10 w: 0.999, Cost: 0.000002\n",
      "Epoch    9/10 w: 1.000, Cost: 0.000000\n",
      "Epoch   10/10 w: 1.000, Cost: 0.000000\n"
     ]
    }
   ],
   "source": [
    "#Gradient Desent with torch.optimize\n",
    "x_train = torch.FloatTensor([[1], [2], [3]])\n",
    "y_train = torch.FloatTensor([[1], [2], [3]])\n",
    "\n",
    "w = torch.zeros(1, requires_grad=True)\n",
    "\n",
    "optimizer = torch.optim.SGD([w], lr=0.15)\n",
    "\n",
    "\n",
    "nb_epochs = 10\n",
    "for epoch in range(nb_epochs + 1):\n",
    "    hypothesis = x_train * w\n",
    "    \n",
    "    cost = torch.mean((hypothesis - y_train) ** 2)\n",
    "    gradient = torch.sum((w * x_train - y_train) * x_train)\n",
    "    \n",
    "    print('Epoch {:4d}/{} w: {:.3f}, Cost: {:.6f}'.format(\n",
    "        epoch, nb_epochs, w.item(), cost.item()\n",
    "    ))\n",
    "    \n",
    "    optimizer.zero_grad()\n",
    "    cost.backward()\n",
    "    optimizer.step()"
   ]
  },
  {
   "cell_type": "code",
   "execution_count": null,
   "id": "c3e3312c",
   "metadata": {},
   "outputs": [],
   "source": [
    "import torch\n",
    "\n",
    "class MultivariateLinearRegressionModel(torch.nn.Module):\n",
    "    def __init__(self):\n",
    "        super().__init__()\n",
    "        self.linear = torch.nn.Linear(3, 1)\n",
    "\n",
    "    def forward(self, x):\n",
    "        return self.linear(x)\n",
    "\n",
    "class CustomDataset(torch.utils.data.Dataset):\n",
    "  def __init__(self):\n",
    "    self.x_data = [[73, 80, 75],\n",
    "                   [93, 88, 93],\n",
    "                   [89, 91, 80],\n",
    "                   [96, 98, 100],\n",
    "                   [73, 66, 70]]\n",
    "    self.y_data = [[152], [185], [180], [196], [142]]\n",
    "\n",
    "\n",
    "  def __len__(self):\n",
    "    return len(self.x_data)\n",
    "\n",
    "  def __getitem__(self, idx):\n",
    "    x = torch.FloatTensor(self.x_data[idx])\n",
    "    y = torch.FloatTensor(self.y_data[idx])\n",
    "\n",
    "    return x, y\n",
    "    \n",
    "model = MultivariateLinearRegressionModel()\n",
    "dataset = CustomDataset()\n",
    "dataloader = torch.utils.data.DataLoader(dataset, batch_size=2, shuffle=True)\n",
    "optimizer = torch.optim.SGD(model.parameters(), lr = 1e-5)\n",
    "epochs = 20\n",
    "cost_list = []\n",
    "\n",
    "for epoch in range(0, epochs):\n",
    "  for batch_idx, samples in enumerate(dataloader):\n",
    "    x_train, y_train = samples\n",
    "    hypothesis = model(x_train)\n",
    "    cost = torch.nn.functional.mse_loss(hypothesis, y_train)\n",
    "    optimizer.zero_grad()\n",
    "    cost.backward()\n",
    "    optimizer.step()\n",
    "    cost_list.append(cost.item())\n",
    "\n",
    "    print('Epoch {:4d}/{} Batch:{}/{} Cost: {:.6f}'.format(\n",
    "        epoch, epochs, batch_idx+1, len(dataloader), cost.item()))\n",
    "\n",
    "import matplotlib.pyplot as plt\n",
    "print(cost_list)\n",
    "print(len(cost_list))\n",
    "plt.plot(cost_list)\n",
    "plt.ylim([0, 100])\n",
    "plt.show()"
   ]
  },
  {
   "cell_type": "code",
   "execution_count": null,
   "id": "380bba83",
   "metadata": {},
   "outputs": [],
   "source": []
  }
 ],
 "metadata": {
  "kernelspec": {
   "display_name": "Python 3 (ipykernel)",
   "language": "python",
   "name": "python3"
  },
  "language_info": {
   "codemirror_mode": {
    "name": "ipython",
    "version": 3
   },
   "file_extension": ".py",
   "mimetype": "text/x-python",
   "name": "python",
   "nbconvert_exporter": "python",
   "pygments_lexer": "ipython3",
   "version": "3.9.12"
  }
 },
 "nbformat": 4,
 "nbformat_minor": 5
}
