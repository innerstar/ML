{
 "cells": [
  {
   "cell_type": "markdown",
   "id": "a2a05e26",
   "metadata": {},
   "source": [
    "# 5. K-Means"
   ]
  },
  {
   "cell_type": "code",
   "execution_count": 1,
   "id": "bc02df30",
   "metadata": {},
   "outputs": [],
   "source": [
    "import os # 경고 해결\n",
    "os.environ['OMP_NUM_THREADS'] = '1'"
   ]
  },
  {
   "cell_type": "code",
   "execution_count": 2,
   "id": "05eb663d",
   "metadata": {},
   "outputs": [],
   "source": [
    "import numpy as np\n",
    "import matplotlib.pyplot as plt\n",
    "import pandas as pd"
   ]
  },
  {
   "cell_type": "code",
   "execution_count": 3,
   "id": "3fa46711",
   "metadata": {},
   "outputs": [
    {
     "data": {
      "text/html": [
       "<div>\n",
       "<style scoped>\n",
       "    .dataframe tbody tr th:only-of-type {\n",
       "        vertical-align: middle;\n",
       "    }\n",
       "\n",
       "    .dataframe tbody tr th {\n",
       "        vertical-align: top;\n",
       "    }\n",
       "\n",
       "    .dataframe thead th {\n",
       "        text-align: right;\n",
       "    }\n",
       "</style>\n",
       "<table border=\"1\" class=\"dataframe\">\n",
       "  <thead>\n",
       "    <tr style=\"text-align: right;\">\n",
       "      <th></th>\n",
       "      <th>hour</th>\n",
       "      <th>score</th>\n",
       "    </tr>\n",
       "  </thead>\n",
       "  <tbody>\n",
       "    <tr>\n",
       "      <th>0</th>\n",
       "      <td>7.33</td>\n",
       "      <td>73</td>\n",
       "    </tr>\n",
       "    <tr>\n",
       "      <th>1</th>\n",
       "      <td>3.71</td>\n",
       "      <td>55</td>\n",
       "    </tr>\n",
       "    <tr>\n",
       "      <th>2</th>\n",
       "      <td>3.43</td>\n",
       "      <td>55</td>\n",
       "    </tr>\n",
       "    <tr>\n",
       "      <th>3</th>\n",
       "      <td>3.06</td>\n",
       "      <td>89</td>\n",
       "    </tr>\n",
       "    <tr>\n",
       "      <th>4</th>\n",
       "      <td>3.33</td>\n",
       "      <td>79</td>\n",
       "    </tr>\n",
       "  </tbody>\n",
       "</table>\n",
       "</div>"
      ],
      "text/plain": [
       "   hour  score\n",
       "0  7.33     73\n",
       "1  3.71     55\n",
       "2  3.43     55\n",
       "3  3.06     89\n",
       "4  3.33     79"
      ]
     },
     "execution_count": 3,
     "metadata": {},
     "output_type": "execute_result"
    }
   ],
   "source": [
    "dataset = pd.read_csv(\"KMeansData.csv\")\n",
    "dataset [:5]"
   ]
  },
  {
   "cell_type": "code",
   "execution_count": 4,
   "id": "a32ceade",
   "metadata": {},
   "outputs": [
    {
     "data": {
      "text/plain": [
       "array([[ 7.33, 73.  ],\n",
       "       [ 3.71, 55.  ],\n",
       "       [ 3.43, 55.  ],\n",
       "       [ 3.06, 89.  ],\n",
       "       [ 3.33, 79.  ]])"
      ]
     },
     "execution_count": 4,
     "metadata": {},
     "output_type": "execute_result"
    }
   ],
   "source": [
    "X = dataset.iloc[:, :].values # == X = dataset.values or X = dataset.to_numpy[] ← 공식 홈페이지 권장\n",
    "X[:5]"
   ]
  },
  {
   "cell_type": "markdown",
   "id": "a260749f",
   "metadata": {},
   "source": [
    "### 데이터 시각화 (전체 데이터 분포 확인)"
   ]
  },
  {
   "cell_type": "code",
   "execution_count": 5,
   "id": "499ee3ed",
   "metadata": {},
   "outputs": [
    {
     "data": {
      "image/png": "[encoded data removed]",
      "text/plain": [
       "<Figure size 432x288 with 1 Axes>"
      ]
     },
     "metadata": {
      "needs_background": "light"
     },
     "output_type": "display_data"
    }
   ],
   "source": [
    "plt.scatter(X[:, 0], X[:, 1]) # x축: hour, y축: score\n",
    "plt.title('Score by hours')\n",
    "plt.xlabel('hours')\n",
    "plt.ylabel('score')\n",
    "plt.show()"
   ]
  },
  {
   "cell_type": "markdown",
   "id": "bd6a0455",
   "metadata": {},
   "source": [
    "### 데이터 시각화 (축 범위 통일)"
   ]
  },
  {
   "cell_type": "code",
   "execution_count": 6,
   "id": "cb7b17f8",
   "metadata": {},
   "outputs": [
    {
     "data": {
      "image/png": "[encoded data removed]",
      "text/plain": [
       "<Figure size 432x288 with 1 Axes>"
      ]
     },
     "metadata": {
      "needs_background": "light"
     },
     "output_type": "display_data"
    }
   ],
   "source": [
    "plt.scatter(X[:, 0], X[:, 1]) # x축: hour, y축: score\n",
    "plt.title('Score by hours')\n",
    "plt.xlabel('hours')\n",
    "plt.xlim(0, 100)\n",
    "plt.ylabel('score')\n",
    "plt.ylim(0, 100)\n",
    "plt.show()"
   ]
  },
  {
   "cell_type": "markdown",
   "id": "46a5a124",
   "metadata": {},
   "source": [
    "### 피처 스케일링 (Feature Scaling)"
   ]
  },
  {
   "cell_type": "code",
   "execution_count": 7,
   "id": "3a6e4281",
   "metadata": {},
   "outputs": [
    {
     "data": {
      "text/plain": [
       "array([[ 0.68729921,  0.73538376],\n",
       "       [-0.66687438,  0.04198891],\n",
       "       [-0.77161709,  0.04198891],\n",
       "       [-0.9100271 ,  1.35173473],\n",
       "       [-0.8090252 ,  0.96651537]])"
      ]
     },
     "execution_count": 7,
     "metadata": {},
     "output_type": "execute_result"
    }
   ],
   "source": [
    "# x축과 y축 범주를 동일화\n",
    "from sklearn.preprocessing import StandardScaler\n",
    "sc = StandardScaler()\n",
    "X = sc.fit_transform(X)\n",
    "X[:5]"
   ]
  },
  {
   "cell_type": "markdown",
   "id": "631fcd2d",
   "metadata": {},
   "source": [
    "### 데이터 시각화 (스케일링된 데이터)"
   ]
  },
  {
   "cell_type": "code",
   "execution_count": 8,
   "id": "7c9134bd",
   "metadata": {},
   "outputs": [
    {
     "data": {
      "image/png": "[encoded data removed]",
      "text/plain": [
       "<Figure size 360x360 with 1 Axes>"
      ]
     },
     "metadata": {
      "needs_background": "light"
     },
     "output_type": "display_data"
    }
   ],
   "source": [
    "plt.figure(figsize=(5,5)) # 정사각형 틀\n",
    "plt.scatter(X[:, 0], X[:, 1])\n",
    "plt.title('Score by hours')\n",
    "plt.xlabel('hours')\n",
    "plt.ylabel('score')\n",
    "plt.show()"
   ]
  },
  {
   "cell_type": "markdown",
   "id": "628030a9",
   "metadata": {},
   "source": [
    "### 최적의 K값 찾기 (엘보우 방식 Elbow Method)"
   ]
  },
  {
   "cell_type": "code",
   "execution_count": 11,
   "id": "befd842f",
   "metadata": {},
   "outputs": [
    {
     "data": {
      "image/png": "[encoded data removed]",
      "text/plain": [
       "<Figure size 432x288 with 1 Axes>"
      ]
     },
     "metadata": {
      "needs_background": "light"
     },
     "output_type": "display_data"
    }
   ],
   "source": [
    "from sklearn.cluster import KMeans\n",
    "inertia_list = []\n",
    "for i in range(1, 11):\n",
    "    kmeans = KMeans(n_clusters=i, init='k-means++', random_state=0)\n",
    "    kmeans.fit(X) # 지도학습과 다르게 y값이 없음\n",
    "    inertia_list.append(kmeans.inertia_) # 각 지점으로부터 클러스터 중심[centroid]까지의 거리 제곱의 합\n",
    "    \n",
    "plt.plot(range(1,11), inertia_list)\n",
    "plt.title('Elbow Method')\n",
    "plt.xlabel('n_clusters')\n",
    "plt.ylabel('inertia')\n",
    "plt.show()"
   ]
  },
  {
   "cell_type": "markdown",
   "id": "699b39e4",
   "metadata": {},
   "source": [
    "### 최적의 K (4) 값으로 KMeans 학습"
   ]
  },
  {
   "cell_type": "code",
   "execution_count": 10,
   "id": "67d32d0b",
   "metadata": {},
   "outputs": [],
   "source": [
    "K = 4 # 최적의 k 값"
   ]
  },
  {
   "cell_type": "code",
   "execution_count": 12,
   "id": "76ffdb96",
   "metadata": {},
   "outputs": [],
   "source": [
    "kmeans = KMeans(n_clusters=K, random_state=0)\n",
    "# kmeans.fit(X)\n",
    "# 어떤 cluster에 속하는지 나타내기 위한 값을 반환\n",
    "y_kmeans = kmeans.fit_predict(X)"
   ]
  },
  {
   "cell_type": "code",
   "execution_count": 14,
   "id": "e9e14850",
   "metadata": {},
   "outputs": [
    {
     "data": {
      "text/plain": [
       "array([2, 3, 3, 0, 0, 1, 1, 0, 2, 0, 0, 3, 1, 3, 3, 0, 1, 2, 3, 0, 1, 0,\n",
       "       3, 1, 2, 2, 3, 3, 3, 3, 1, 1, 3, 0, 2, 2, 3, 0, 0, 0, 3, 1, 2, 3,\n",
       "       3, 2, 1, 0, 1, 1, 2, 0, 1, 1, 0, 0, 0, 0, 3, 1, 1, 2, 2, 2, 2, 1,\n",
       "       1, 0, 1, 2, 3, 2, 2, 2, 3, 3, 3, 3, 0, 2, 1, 2, 1, 1, 2, 0, 3, 1,\n",
       "       2, 3, 0, 1, 0, 2, 3, 2, 2, 0, 1, 3])"
      ]
     },
     "execution_count": 14,
     "metadata": {},
     "output_type": "execute_result"
    }
   ],
   "source": [
    "y_kmeans"
   ]
  },
  {
   "cell_type": "markdown",
   "id": "dafcdc17",
   "metadata": {},
   "source": [
    "### 데이터 시각화 (최적의 K)"
   ]
  },
  {
   "cell_type": "code",
   "execution_count": 18,
   "id": "a5341e82",
   "metadata": {},
   "outputs": [
    {
     "data": {
      "text/plain": [
       "array([[-0.57163957,  0.85415973],\n",
       "       [ 0.8837666 , -1.26929779],\n",
       "       [ 0.94107583,  0.93569782],\n",
       "       [-1.22698889, -0.46768593]])"
      ]
     },
     "execution_count": 18,
     "metadata": {},
     "output_type": "execute_result"
    }
   ],
   "source": [
    "centers = kmeans.cluster_centers_ # 클러스터의 중심점[centroid]의 좌표 값들을 가짐\n",
    "centers\n",
    "\n",
    "           # x좌표, y좌표"
   ]
  },
  {
   "cell_type": "code",
   "execution_count": 23,
   "id": "fc32254a",
   "metadata": {},
   "outputs": [
    {
     "data": {
      "image/png": "[encoded data removed]",
      "text/plain": [
       "<Figure size 432x288 with 1 Axes>"
      ]
     },
     "metadata": {
      "needs_background": "light"
     },
     "output_type": "display_data"
    }
   ],
   "source": [
    "for cluster in range(K):\n",
    "    plt.scatter(X[y_kmeans == cluster, 0], X[y_kmeans == cluster, 1], s=100, edgecolor='black') # 0은 공부 시간 정보, 1은 score 정보 → 각 데이터 출력\n",
    "    plt.scatter(centers[cluster, 0], centers[cluster, 1], s=300, edgecolor='black', color='yellow', marker='s') # 중심점 네모 출력\n",
    "    plt.text(centers[cluster, 0], centers[cluster, 1], cluster, va='center', ha='center') # 클러스터 네모 출력\n",
    "    \n",
    "plt.title('Score by hours')\n",
    "plt.xlabel('hours')\n",
    "plt.ylabel('score')\n",
    "plt.show()"
   ]
  },
  {
   "cell_type": "markdown",
   "id": "91b481ac",
   "metadata": {},
   "source": [
    "### 데이터 시각화 (스케일링 원복)"
   ]
  },
  {
   "cell_type": "code",
   "execution_count": 27,
   "id": "c83c3a24",
   "metadata": {},
   "outputs": [
    {
     "data": {
      "text/plain": [
       "array([[ 7.33, 73.  ],\n",
       "       [ 3.71, 55.  ],\n",
       "       [ 3.43, 55.  ],\n",
       "       [ 3.06, 89.  ],\n",
       "       [ 3.33, 79.  ]])"
      ]
     },
     "execution_count": 27,
     "metadata": {},
     "output_type": "execute_result"
    }
   ],
   "source": [
    "X_org = sc.inverse_transform(X) # Feature Scaling 된 데이터를 원복\n",
    "X_org[:5]"
   ]
  },
  {
   "cell_type": "code",
   "execution_count": 28,
   "id": "63b9d950",
   "metadata": {},
   "outputs": [
    {
     "data": {
      "text/plain": [
       "array([[ 3.96458333, 76.08333333],\n",
       "       [ 7.8552    , 20.96      ],\n",
       "       [ 8.0084    , 78.2       ],\n",
       "       [ 2.21269231, 41.76923077]])"
      ]
     },
     "execution_count": 28,
     "metadata": {},
     "output_type": "execute_result"
    }
   ],
   "source": [
    "centers_org = sc.inverse_transform(centers)\n",
    "centers_org"
   ]
  },
  {
   "cell_type": "code",
   "execution_count": 29,
   "id": "ef9f53b6",
   "metadata": {},
   "outputs": [
    {
     "data": {
      "image/png": "[encoded data removed]",
      "text/plain": [
       "<Figure size 432x288 with 1 Axes>"
      ]
     },
     "metadata": {
      "needs_background": "light"
     },
     "output_type": "display_data"
    }
   ],
   "source": [
    "for cluster in range(K):\n",
    "    plt.scatter(X_org[y_kmeans == cluster, 0], X_org[y_kmeans == cluster, 1], s=100, edgecolor='black') # 0은 공부 시간 정보, 1은 score 정보 → 각 데이터 출력\n",
    "    plt.scatter(centers_org[cluster, 0], centers_org[cluster, 1], s=300, edgecolor='black', color='yellow', marker='s') # 중심점 네모 출력\n",
    "    plt.text(centers_org[cluster, 0], centers_org[cluster, 1], cluster, va='center', ha='center') # 클러스터 네모 출력\n",
    "    \n",
    "plt.title('Score by hours')\n",
    "plt.xlabel('hours')\n",
    "plt.ylabel('score')\n",
    "plt.show()"
   ]
  }
 ],
 "metadata": {
  "jupytext": {
   "formats": "ipynb,auto:light"
  },
  "kernelspec": {
   "display_name": "Python 3 (ipykernel)",
   "language": "python",
   "name": "python3"
  },
  "language_info": {
   "codemirror_mode": {
    "name": "ipython",
    "version": 3
   },
   "file_extension": ".py",
   "mimetype": "text/x-python",
   "name": "python",
   "nbconvert_exporter": "python",
   "pygments_lexer": "ipython3",
   "version": "3.9.12"
  }
 },
 "nbformat": 4,
 "nbformat_minor": 5
}
